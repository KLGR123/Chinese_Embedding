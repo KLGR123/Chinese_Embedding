{
 "cells": [
  {
   "cell_type": "markdown",
   "id": "07deffa0",
   "metadata": {},
   "source": [
    "# 汉语子词向量任务 SVD\n",
    "\n",
    "本实验基于 SVD 分解构建汉语子词向量并进行评测。"
   ]
  },
  {
   "cell_type": "code",
   "execution_count": 1,
   "id": "26dab7fb",
   "metadata": {},
   "outputs": [],
   "source": [
    "import numpy as np\n",
    "import jieba\n",
    "import re\n",
    "import matplotlib.pyplot as plt\n",
    "import tqdm"
   ]
  },
  {
   "cell_type": "markdown",
   "id": "73c5798a",
   "metadata": {},
   "source": [
    "首先导入 corpus 语料库，并得到句子序列 sentences，查看语料库总共有 260004 条。"
   ]
  },
  {
   "cell_type": "code",
   "execution_count": 2,
   "id": "ad9e14db",
   "metadata": {},
   "outputs": [],
   "source": [
    "def read_file(file_name):\n",
    "    lines = []\n",
    "    with open(file_name, 'r') as f: \n",
    "        for line in f:\n",
    "            lines.append(line)\n",
    "    return lines"
   ]
  },
  {
   "cell_type": "code",
   "execution_count": 3,
   "id": "ecc0d4d3",
   "metadata": {},
   "outputs": [
    {
     "data": {
      "text/plain": [
       "260004"
      ]
     },
     "execution_count": 3,
     "metadata": {},
     "output_type": "execute_result"
    }
   ],
   "source": [
    "sentences = read_file('src/corpus.txt')\n",
    "len(sentences)"
   ]
  },
  {
   "cell_type": "markdown",
   "id": "28e401ae",
   "metadata": {},
   "source": [
    "### 句子预处理\n",
    "对 sentences 序列中的每个句子元素进行预处理，包括如下步骤。\n",
    "- 除去数据中空格（包括非文本、标点等）\n",
    "- 除去停用词\n",
    "- 中文分词\n",
    "\n",
    "使用这些方法可以得到处理后的 sentences。"
   ]
  },
  {
   "cell_type": "code",
   "execution_count": 4,
   "id": "d97a3587",
   "metadata": {},
   "outputs": [],
   "source": [
    "def purify(line): \n",
    "    line = line.replace(' ', '')\n",
    "    return line"
   ]
  },
  {
   "cell_type": "code",
   "execution_count": 5,
   "id": "20d37c88",
   "metadata": {},
   "outputs": [
    {
     "name": "stderr",
     "output_type": "stream",
     "text": [
      "Building prefix dict from the default dictionary ...\n",
      "Loading model from cache /tmp/jieba.cache\n",
      "Loading model cost 0.753 seconds.\n",
      "Prefix dict has been built successfully.\n"
     ]
    },
    {
     "data": {
      "text/plain": [
       "['上涨', '最后', '一样', '继续', '美国']"
      ]
     },
     "execution_count": 5,
     "metadata": {},
     "output_type": "execute_result"
    }
   ],
   "source": [
    "import jieba\n",
    "from jieba import analyse\n",
    "\n",
    "analyse.set_stop_words('src/stopwords.txt') # 停用词表设定\n",
    "\n",
    "for i in range(len(sentences)):\n",
    "    sentences[i] = purify(sentences[i])\n",
    "    sentences[i] = analyse.extract_tags(sentences[i])\n",
    "\n",
    "sentences[0][-5:]"
   ]
  },
  {
   "cell_type": "markdown",
   "id": "0503f916",
   "metadata": {},
   "source": [
    "### 生成词表\n",
    "\n",
    "通过对 corpus.txt 中的所有语句进行分词，得到词表。"
   ]
  },
  {
   "cell_type": "code",
   "execution_count": 10,
   "id": "7206025d",
   "metadata": {},
   "outputs": [
    {
     "data": {
      "text/plain": [
       "214578"
      ]
     },
     "execution_count": 10,
     "metadata": {},
     "output_type": "execute_result"
    }
   ],
   "source": [
    "words = set([]) # 词表集合\n",
    "        \n",
    "for i in range(len(sentences)):\n",
    "    for j in range(len(sentences[i])):\n",
    "        words.add(sentences[i][j])\n",
    "\n",
    "words = list(words)\n",
    "len(words)"
   ]
  },
  {
   "cell_type": "markdown",
   "id": "bce37109",
   "metadata": {},
   "source": [
    "从中取出 10000 个高频词，最终得到词表 words，打印其中某个词。"
   ]
  },
  {
   "cell_type": "code",
   "execution_count": 12,
   "id": "bea6f041",
   "metadata": {},
   "outputs": [
    {
     "data": {
      "text/plain": [
       "(10000, '空气')"
      ]
     },
     "execution_count": 12,
     "metadata": {},
     "output_type": "execute_result"
    }
   ],
   "source": [
    "import random\n",
    "\n",
    "def get_word_pair(line):\n",
    "    line = line.strip(\"\\n\")\n",
    "    return line.split()\n",
    "     \n",
    "words = random.sample(words, 9000) \n",
    "\n",
    "with open('src/word_pair.txt', 'r') as f: # 加入测试词汇\n",
    "    for line in f:\n",
    "        worda, wordb = get_word_pair(line)\n",
    "        words.append(worda)\n",
    "        words.append(wordb) \n",
    "        \n",
    "len(words), words[0]"
   ]
  },
  {
   "cell_type": "markdown",
   "id": "a6fdb278",
   "metadata": {},
   "source": [
    "### 对应词表构建矩阵\n",
    "构建二维词频统计矩阵 M。"
   ]
  },
  {
   "cell_type": "code",
   "execution_count": 13,
   "id": "66088041",
   "metadata": {},
   "outputs": [
    {
     "data": {
      "text/plain": [
       "(10000, 10000)"
      ]
     },
     "execution_count": 13,
     "metadata": {},
     "output_type": "execute_result"
    }
   ],
   "source": [
    "M = np.zeros((10000, 10000), dtype=int)\n",
    "M.shape"
   ]
  },
  {
   "cell_type": "markdown",
   "id": "6f7ad95d",
   "metadata": {},
   "source": [
    "### 基于 SVD 分解\n",
    "通过窗口 K = 5 滑动得到词频统计，完善词频矩阵的计数。首先设计更新用的函数。"
   ]
  },
  {
   "cell_type": "code",
   "execution_count": 14,
   "id": "6081fcf1",
   "metadata": {},
   "outputs": [],
   "source": [
    "def M_update(sentence, M, words, k=5): # 更新 M 矩阵的词频计数\n",
    "    if len(sentence) < k:\n",
    "        return M\n",
    "    \n",
    "    for i in range(len(sentence)): # 先将句子中非词表的词改为 0 值\n",
    "        if sentence[i] not in words:\n",
    "            sentence[i] = 0\n",
    "    \n",
    "    for i in range(len(sentence)):\n",
    "        if sentence[i] != 0: # 该中心词在词表中\n",
    "            indices = list(range(max(0, i - k), min(len(sentence), i + 1 + k))) # 上下文窗口中间 i\n",
    "            \n",
    "            indices.remove(i) # 排除中心词\n",
    "            \n",
    "            w = words.index(sentence[i])\n",
    "            \n",
    "            for j in range(len(indices)):\n",
    "                word_j = sentence[indices[j]]\n",
    "                \n",
    "                if word_j != 0: # 窗口内的词也在词表中\n",
    "                    wj = words.index(word_j)\n",
    "                    \n",
    "                    M[wj][w] += 1 # 更新 M 对应位置的计数\n",
    "                    M[w][wj] += 1\n",
    "                    \n",
    "                    \n",
    "                else:\n",
    "                    continue\n",
    "            \n",
    "        else: \n",
    "            continue\n",
    "            \n",
    "    return M"
   ]
  },
  {
   "cell_type": "markdown",
   "id": "e53bf541",
   "metadata": {},
   "source": [
    "对所有句子 sentences 序列进行遍历，得到最终的矩阵 M。"
   ]
  },
  {
   "cell_type": "code",
   "execution_count": 15,
   "id": "a6c3566e",
   "metadata": {},
   "outputs": [
    {
     "name": "stderr",
     "output_type": "stream",
     "text": [
      "100%|██████████| 260004/260004 [22:32<00:00, 192.28it/s]\n"
     ]
    }
   ],
   "source": [
    "for sent in tqdm.tqdm(sentences):\n",
    "    M = M_update(sent, M, words)"
   ]
  },
  {
   "cell_type": "markdown",
   "id": "5e2eccb8",
   "metadata": {},
   "source": [
    "对原始的 M 进行散点图可视化。"
   ]
  },
  {
   "cell_type": "code",
   "execution_count": 16,
   "id": "bf97171e",
   "metadata": {},
   "outputs": [
    {
     "data": {
      "image/png": "[encoded data removed]",
      "text/plain": [
       "<Figure size 432x288 with 1 Axes>"
      ]
     },
     "metadata": {
      "needs_background": "light"
     },
     "output_type": "display_data"
    }
   ],
   "source": [
    "x, y = np.where(M > 0)\n",
    "\n",
    "fig = plt.figure()\n",
    "ax = fig.subplots()\n",
    "\n",
    "ax.scatter(x, y, alpha=0.5)\n",
    "plt.show()"
   ]
  },
  {
   "cell_type": "markdown",
   "id": "a517f1c6",
   "metadata": {},
   "source": [
    "基于 SVD 降维，获得子词向量 vec_sta。"
   ]
  },
  {
   "cell_type": "code",
   "execution_count": 17,
   "id": "4c76c114",
   "metadata": {},
   "outputs": [],
   "source": [
    "U, sigma, VT = np.linalg.svd(M)"
   ]
  },
  {
   "cell_type": "markdown",
   "id": "86bf81f0",
   "metadata": {},
   "source": [
    "经过检验，发现零奇异值在 4500 取到。本实验选取了 3000 个奇异值，将维度减小到 3000。"
   ]
  },
  {
   "cell_type": "code",
   "execution_count": 27,
   "id": "964663d0",
   "metadata": {
    "scrolled": true
   },
   "outputs": [
    {
     "data": {
      "text/plain": [
       "(0.0001614032909211087, 2.000000000000001)"
      ]
     },
     "execution_count": 27,
     "metadata": {},
     "output_type": "execute_result"
    }
   ],
   "source": [
    "sigma[4500], sigma[3000]"
   ]
  },
  {
   "cell_type": "markdown",
   "id": "f39ebabc",
   "metadata": {},
   "source": [
    "经过计算，得到选取的奇异值与奇异值总和的比值为 0.98，是合理的。"
   ]
  },
  {
   "cell_type": "code",
   "execution_count": 28,
   "id": "584acaf8",
   "metadata": {},
   "outputs": [
    {
     "data": {
      "text/plain": [
       "(71303.72784452922, 72804.68586968372, 0.9793837717006137)"
      ]
     },
     "execution_count": 28,
     "metadata": {},
     "output_type": "execute_result"
    }
   ],
   "source": [
    "s1 = np.sum(sigma[:3000])\n",
    "s2 = np.sum(sigma[:])\n",
    "s1, s2, s1 / s2"
   ]
  },
  {
   "cell_type": "markdown",
   "id": "00c25042",
   "metadata": {},
   "source": [
    "### 相似度验证 SVD 分解"
   ]
  },
  {
   "cell_type": "code",
   "execution_count": 32,
   "id": "7fb7e123",
   "metadata": {},
   "outputs": [],
   "source": [
    "def cos_sim(worda, wordb, V): # 计算两个词的余弦相似度\n",
    "    if (worda in words) and (wordb in words):\n",
    "        a = words.index(worda)\n",
    "        b = words.index(wordb)\n",
    "        cos = np.dot(V[a], V[b]) / (np.linalg.norm(V[a]) * np.linalg.norm(V[b]))\n",
    "        return cos\n",
    "    else:\n",
    "        return 0"
   ]
  },
  {
   "cell_type": "markdown",
   "id": "47f9198f",
   "metadata": {},
   "source": [
    "求得最终的词空间向量。"
   ]
  },
  {
   "cell_type": "code",
   "execution_count": 33,
   "id": "8c5ea9f8",
   "metadata": {},
   "outputs": [
    {
     "data": {
      "text/plain": [
       "(10000, 3000)"
      ]
     },
     "execution_count": 33,
     "metadata": {},
     "output_type": "execute_result"
    }
   ],
   "source": [
    "V = U[:3000].T * sigma[:3000] # n = 100000, k = 3000\n",
    "V.shape"
   ]
  },
  {
   "cell_type": "markdown",
   "id": "85ed3e1c",
   "metadata": {},
   "source": [
    "基于该向量计算 test.txt 中的同一行的两个子词的余弦相似度 sim_svd，并插入到行后。"
   ]
  },
  {
   "cell_type": "code",
   "execution_count": 35,
   "id": "ece3b3c8",
   "metadata": {},
   "outputs": [
    {
     "name": "stderr",
     "output_type": "stream",
     "text": [
      "/tmp/ipykernel_237/765101111.py:5: RuntimeWarning: invalid value encountered in double_scalars\n",
      "  cos = np.dot(V[a], V[b]) / (np.linalg.norm(V[a]) * np.linalg.norm(V[b]))\n"
     ]
    }
   ],
   "source": [
    "lines = ''\n",
    "\n",
    "with open('src/test.txt', 'r') as f: \n",
    "    for line in f:\n",
    "        worda, wordb = get_word_pair(line)\n",
    "        line = line[:-1] + '\\t' + str(cos_sim(worda, wordb, V)) + '\\n'\n",
    "        lines += line\n",
    "    \n",
    "with open('src/test.txt', 'w') as f: \n",
    "    f.write(lines)"
   ]
  }
 ],
 "metadata": {
  "kernelspec": {
   "display_name": "PyTorch 1.8",
   "language": "python",
   "name": "torch1.8"
  },
  "language_info": {
   "codemirror_mode": {
    "name": "ipython",
    "version": 3
   },
   "file_extension": ".py",
   "mimetype": "text/x-python",
   "name": "python",
   "nbconvert_exporter": "python",
   "pygments_lexer": "ipython3",
   "version": "3.9.7"
  }
 },
 "nbformat": 4,
 "nbformat_minor": 5
}
